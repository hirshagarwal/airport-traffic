{
 "cells": [
  {
   "cell_type": "markdown",
   "id": "52373628",
   "metadata": {},
   "source": [
    "# Load/Analyze Historical Pre-downloaded Flight Data\n",
    "Data link: https://www.kaggle.com/datasets/robikscube/flight-delay-dataset-20182022?resource=download"
   ]
  },
  {
   "cell_type": "code",
   "execution_count": 1,
   "id": "9e33bc36",
   "metadata": {},
   "outputs": [],
   "source": [
    "import pandas as pd"
   ]
  },
  {
   "cell_type": "code",
   "execution_count": 2,
   "id": "fad5a1ff",
   "metadata": {},
   "outputs": [],
   "source": [
    "df = pd.read_parquet('../../data/flight_data/Combined_Flights_2018.parquet')"
   ]
  },
  {
   "cell_type": "code",
   "execution_count": 10,
   "id": "22055ef3",
   "metadata": {},
   "outputs": [
    {
     "data": {
      "text/html": [
       "<div>\n",
       "<style scoped>\n",
       "    .dataframe tbody tr th:only-of-type {\n",
       "        vertical-align: middle;\n",
       "    }\n",
       "\n",
       "    .dataframe tbody tr th {\n",
       "        vertical-align: top;\n",
       "    }\n",
       "\n",
       "    .dataframe thead th {\n",
       "        text-align: right;\n",
       "    }\n",
       "</style>\n",
       "<table border=\"1\" class=\"dataframe\">\n",
       "  <thead>\n",
       "    <tr style=\"text-align: right;\">\n",
       "      <th></th>\n",
       "      <th>FlightDate</th>\n",
       "    </tr>\n",
       "  </thead>\n",
       "  <tbody>\n",
       "    <tr>\n",
       "      <th>0</th>\n",
       "      <td>2018-01-23</td>\n",
       "    </tr>\n",
       "    <tr>\n",
       "      <th>1</th>\n",
       "      <td>2018-01-24</td>\n",
       "    </tr>\n",
       "    <tr>\n",
       "      <th>2</th>\n",
       "      <td>2018-01-25</td>\n",
       "    </tr>\n",
       "    <tr>\n",
       "      <th>3</th>\n",
       "      <td>2018-01-26</td>\n",
       "    </tr>\n",
       "    <tr>\n",
       "      <th>4</th>\n",
       "      <td>2018-01-27</td>\n",
       "    </tr>\n",
       "    <tr>\n",
       "      <th>...</th>\n",
       "      <td>...</td>\n",
       "    </tr>\n",
       "    <tr>\n",
       "      <th>637609</th>\n",
       "      <td>2018-09-11</td>\n",
       "    </tr>\n",
       "    <tr>\n",
       "      <th>637610</th>\n",
       "      <td>2018-09-11</td>\n",
       "    </tr>\n",
       "    <tr>\n",
       "      <th>637611</th>\n",
       "      <td>2018-09-11</td>\n",
       "    </tr>\n",
       "    <tr>\n",
       "      <th>637612</th>\n",
       "      <td>2018-09-11</td>\n",
       "    </tr>\n",
       "    <tr>\n",
       "      <th>637613</th>\n",
       "      <td>2018-09-11</td>\n",
       "    </tr>\n",
       "  </tbody>\n",
       "</table>\n",
       "<p>5689512 rows × 1 columns</p>\n",
       "</div>"
      ],
      "text/plain": [
       "       FlightDate\n",
       "0      2018-01-23\n",
       "1      2018-01-24\n",
       "2      2018-01-25\n",
       "3      2018-01-26\n",
       "4      2018-01-27\n",
       "...           ...\n",
       "637609 2018-09-11\n",
       "637610 2018-09-11\n",
       "637611 2018-09-11\n",
       "637612 2018-09-11\n",
       "637613 2018-09-11\n",
       "\n",
       "[5689512 rows x 1 columns]"
      ]
     },
     "execution_count": 10,
     "metadata": {},
     "output_type": "execute_result"
    }
   ],
   "source": [
    "df.loc[:, [\"FlightDate\"]]"
   ]
  },
  {
   "cell_type": "code",
   "execution_count": 20,
   "id": "5d8ecad5",
   "metadata": {},
   "outputs": [
    {
     "data": {
      "text/plain": [
       "FlightDate            115317\n",
       "Airline               115317\n",
       "Origin                115317\n",
       "Dest                  115317\n",
       "Cancelled             115317\n",
       "                       ...  \n",
       "ArrDel15              112457\n",
       "ArrivalDelayGroups    112457\n",
       "ArrTimeBlk            115317\n",
       "DistanceGroup         115317\n",
       "DivAirportLandings    115317\n",
       "Length: 61, dtype: int64"
      ]
     },
     "execution_count": 20,
     "metadata": {},
     "output_type": "execute_result"
    }
   ],
   "source": [
    "df[df['Dest'] == 'BOS'].count()"
   ]
  },
  {
   "cell_type": "code",
   "execution_count": null,
   "id": "fd3da11a",
   "metadata": {},
   "outputs": [],
   "source": []
  }
 ],
 "metadata": {
  "kernelspec": {
   "display_name": "Python 3",
   "language": "python",
   "name": "python3"
  },
  "language_info": {
   "codemirror_mode": {
    "name": "ipython",
    "version": 3
   },
   "file_extension": ".py",
   "mimetype": "text/x-python",
   "name": "python",
   "nbconvert_exporter": "python",
   "pygments_lexer": "ipython3",
   "version": "3.12.8"
  }
 },
 "nbformat": 4,
 "nbformat_minor": 5
}
